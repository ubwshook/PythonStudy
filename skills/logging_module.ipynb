{
 "cells": [
  {
   "cell_type": "markdown",
   "metadata": {},
   "source": [
    "# logging模块\n",
    "## logging模块简介\n",
    "logging模块是Python内置的标准模块，主要用于输出运行日志，可以设置输出日志的等级、日志保存路径、日志文件回滚等；相比print，具备如下优点：\n",
    "\n",
    "* 可以通过设置不同的日志等级，在release版本中只输出重要信息，而不必显示大量的调试信息；\n",
    "* print将所有信息都输出到标准输出中，严重影响开发者从标准输出中查看其它数据；logging则可以由开发者决定将信息输出到什么地方，以及怎么输出；\n",
    "\n",
    "## logging模块使用\n",
    "### 基本使用\n",
    "配置logging基本的设置，然后在控制台输出日志："
   ]
  },
  {
   "cell_type": "code",
   "execution_count": 1,
   "metadata": {},
   "outputs": [
    {
     "name": "stderr",
     "output_type": "stream",
     "text": [
      "2019-11-19 10:51:21,717 - __main__ - INFO - Start print log\n",
      "2019-11-19 10:51:21,727 - __main__ - WARNING - Something maybe fail.\n",
      "2019-11-19 10:51:21,729 - __main__ - INFO - Finish\n"
     ]
    }
   ],
   "source": [
    "import logging\n",
    "logging.basicConfig(level = logging.INFO,format = '%(asctime)s - %(name)s - %(levelname)s - %(message)s')\n",
    "logger = logging.getLogger(__name__)\n",
    "\n",
    "logger.info(\"Start print log\")\n",
    "logger.debug(\"Do something\")\n",
    "logger.warning(\"Something maybe fail.\")\n",
    "logger.info(\"Finish\")"
   ]
  },
  {
   "cell_type": "markdown",
   "metadata": {},
   "source": [
    "logging中可以选择很多消息级别，如debug、info、warning、error以及critical。通过赋予logger或者handler不同的级别，开发者就可以只输出错误信息到特定的记录文件，或者在调试时只记录调试信息。\n",
    "\n",
    "例如，我们将logger的级别改为DEBUG，再观察一下输出结果："
   ]
  },
  {
   "cell_type": "code",
   "execution_count": 7,
   "metadata": {},
   "outputs": [
    {
     "name": "stderr",
     "output_type": "stream",
     "text": [
      "2019-11-19 10:56:51,541 - __main__ - INFO - Start print log\n",
      "2019-11-19 10:56:51,543 - __main__ - DEBUG - Do something\n",
      "2019-11-19 10:56:51,544 - __main__ - WARNING - Something maybe fail.\n",
      "2019-11-19 10:56:51,545 - __main__ - INFO - Finish\n"
     ]
    }
   ],
   "source": [
    "import logging\n",
    "logging.basicConfig(level = logging.INFO, format = '%(asctime)s - %(name)s - %(levelname)s - %(message)s')\n",
    "logger = logging.getLogger(__name__)\n",
    "logger.setLevel(logging.DEBUG)\n",
    "\n",
    "logger.info(\"Start print log\")\n",
    "logger.debug(\"Do something\")\n",
    "logger.warning(\"Something maybe fail.\")\n",
    "logger.info(\"Finish\")"
   ]
  },
  {
   "cell_type": "markdown",
   "metadata": {},
   "source": [
    "**logging.basicConfig函数各参数**：\n",
    "\n",
    "* filename：指定日志文件名；\n",
    "* filemode：和file函数意义相同，指定日志文件的打开模式，'w'或者'a'；\n",
    "* datefmt：指定时间格式，同time.strftime()；\n",
    "* level：设置日志级别，默认为logging.WARNNING；\n",
    "* stream：指定将日志的输出流，可以指定输出到sys.stderr，sys.stdout或者文件，默认输出到sys.stderr，当stream和filename同时指定时，stream被忽略\n",
    "* format：指定输出的格式和内容，format可以输出很多有用的信息：\n",
    "\n",
    "**format中参数的作用**：\n",
    "* %(levelno)s：打印日志级别的数值\n",
    "* %(levelname)s：打印日志级别的名称\n",
    "* %(pathname)s：打印当前执行程序的路径，其实就是sys.argv[0]\n",
    "* %(filename)s：打印当前执行程序名\n",
    "* %(funcName)s：打印日志的当前函数\n",
    "* %(lineno)d：打印日志的当前行号\n",
    "* %(asctime)s：打印日志的时间\n",
    "* %(thread)d：打印线程ID\n",
    "* %(threadName)s：打印线程名称\n",
    "* %(process)d：打印进程ID\n",
    "* %(message)s：打印日志信息"
   ]
  },
  {
   "cell_type": "markdown",
   "metadata": {},
   "source": [
    "### 将日志写入文件\n",
    "设置logging，创建一个FileHandler，并对输出消息的格式进行设置，将其添加到logger，然后将日志写入到指定的文件中:"
   ]
  },
  {
   "cell_type": "code",
   "execution_count": 3,
   "metadata": {},
   "outputs": [
    {
     "name": "stderr",
     "output_type": "stream",
     "text": [
      "2019-11-19 11:54:18,388 - __main__ - INFO - Start print log\n",
      "Start print log\n",
      "2019-11-19 11:54:18,391 - __main__ - WARNING - Something maybe fail.\n",
      "Something maybe fail.\n",
      "2019-11-19 11:54:18,394 - __main__ - INFO - Finish\n",
      "Finish\n"
     ]
    }
   ],
   "source": [
    "import logging\n",
    "logger = logging.getLogger(__name__)\n",
    "logger.setLevel(level = logging.INFO)\n",
    "handler = logging.FileHandler(\"log1.txt\")\n",
    "handler.setLevel(logging.INFO)\n",
    "formatter = logging.Formatter('%(asctime)s - %(name)s - %(levelname)s - %(message)s')\n",
    "handler.setFormatter(formatter)\n",
    "logger.addHandler(handler)\n",
    "\n",
    "logger.info(\"Start print log\")\n",
    "logger.debug(\"Do something\")\n",
    "logger.warning(\"Something maybe fail.\")\n",
    "logger.info(\"Finish\")"
   ]
  },
  {
   "cell_type": "markdown",
   "metadata": {},
   "source": [
    "#### 将日志同时输出到屏幕和日志文件\n",
    "logger中添加StreamHandler，可以将日志输出到屏幕上:"
   ]
  },
  {
   "cell_type": "code",
   "execution_count": 2,
   "metadata": {},
   "outputs": [
    {
     "name": "stderr",
     "output_type": "stream",
     "text": [
      "2019-11-19 11:54:15,831 - __main__ - INFO - Start print log\n",
      "Start print log\n",
      "2019-11-19 11:54:15,835 - __main__ - WARNING - Something maybe fail.\n",
      "Something maybe fail.\n",
      "2019-11-19 11:54:15,838 - __main__ - INFO - Finish\n",
      "Finish\n"
     ]
    }
   ],
   "source": [
    "import logging\n",
    "logger = logging.getLogger(__name__)\n",
    "logger.setLevel(level = logging.INFO)\n",
    "handler = logging.FileHandler(\"log1.txt\")\n",
    "handler.setLevel(logging.INFO)\n",
    "formatter = logging.Formatter('%(asctime)s - %(name)s - %(levelname)s - %(message)s')\n",
    "handler.setFormatter(formatter)\n",
    "\n",
    "console = logging.StreamHandler()\n",
    "console.setLevel(logging.INFO)\n",
    "\n",
    "logger.addHandler(handler)\n",
    "logger.addHandler(console)\n",
    "\n",
    "logger.info(\"Start print log\")\n",
    "logger.debug(\"Do something\")\n",
    "logger.warning(\"Something maybe fail.\")\n",
    "logger.info(\"Finish\")"
   ]
  },
  {
   "cell_type": "markdown",
   "metadata": {},
   "source": [
    "可以发现，logging有一个日志处理的主对象，其他处理方式都是通过addHandler添加进去，logging中包含的handler主要有如下几种:\n",
    "* StreamHandler：logging.StreamHandler；日志输出到流，可以是sys.stderr，sys.stdout或者文件\n",
    "* FileHandler：logging.FileHandler；日志输出到文件\n",
    "* BaseRotatingHandler：logging.handlers.BaseRotatingHandler；基本的日志回滚方式\n",
    "* RotatingHandler：logging.handlers.RotatingHandler；日志回滚方式，支持日志文件最大数量和日志文件回滚\n",
    "* TimeRotatingHandler：logging.handlers.TimeRotatingHandler；日志回滚方式，在一定时间区域内回滚日志文件\n",
    "* SocketHandler：logging.handlers.SocketHandler；远程输出日志到TCP/IP sockets\n",
    "* DatagramHandler：logging.handlers.DatagramHandler；远程输出日志到UDP sockets\n",
    "* SMTPHandler：logging.handlers.SMTPHandler；远程输出日志到邮件地址\n",
    "* SysLogHandler：logging.handlers.SysLogHandler；日志输出到syslog\n",
    "* NTEventLogHandler：logging.handlers.NTEventLogHandler；远程输出日志到Windows NT/2000/XP的事件日志\n",
    "* MemoryHandler：logging.handlers.MemoryHandler；日志输出到内存中的指定buffer\n",
    "* HTTPHandler：logging.handlers.HTTPHandler；通过\"GET\"或者\"POST\"远程输出到HTTP服务器\n",
    "\n",
    "### 日志滚动记录\n",
    "使用RotatingFileHandler，可以实现日志滚动记录："
   ]
  },
  {
   "cell_type": "code",
   "execution_count": 1,
   "metadata": {},
   "outputs": [
    {
     "name": "stderr",
     "output_type": "stream",
     "text": [
      "2019-11-19 11:54:09,720 - __main__ - INFO - Start print log\n",
      "2019-11-19 11:54:09,740 - __main__ - WARNING - Something maybe fail.\n",
      "2019-11-19 11:54:09,742 - __main__ - INFO - Finish\n"
     ]
    }
   ],
   "source": [
    "import logging\n",
    "from logging.handlers import RotatingFileHandler\n",
    "logger = logging.getLogger(__name__)\n",
    "logger.setLevel(level = logging.INFO)\n",
    "#定义一个RotatingFileHandler，最多备份3个日志文件，每个日志文件最大1K\n",
    "rHandler = RotatingFileHandler(\"log.txt\",maxBytes = 1*1024,backupCount = 3)\n",
    "rHandler.setLevel(logging.INFO)\n",
    "formatter = logging.Formatter('%(asctime)s - %(name)s - %(levelname)s - %(message)s')\n",
    "rHandler.setFormatter(formatter)\n",
    "\n",
    "console = logging.StreamHandler()\n",
    "console.setLevel(logging.INFO)\n",
    "console.setFormatter(formatter)\n",
    "\n",
    "logger.addHandler(rHandler)\n",
    "logger.addHandler(console)\n",
    "\n",
    "logger.info(\"Start print log\")\n",
    "logger.debug(\"Do something\")\n",
    "logger.warning(\"Something maybe fail.\")\n",
    "logger.info(\"Finish\")"
   ]
  },
  {
   "cell_type": "markdown",
   "metadata": {},
   "source": [
    "### 设置消息的等级\n",
    "可以设置不同的日志等级，用于控制日志的输出。\n",
    "\n",
    "日志等级：使用范围\n",
    "\n",
    "* FATAL：致命错误\n",
    "* CRITICAL：特别糟糕的事情，如内存耗尽、磁盘空间为空，一般很少使用\n",
    "* ERROR：发生错误时，如IO操作失败或者连接问题\n",
    "* WARNING：发生很重要的事件，但是并不是错误时，如用户登录密码错误\n",
    "* INFO：处理请求或者状态变化等日常事务\n",
    "* DEBUG：调试过程中使用DEBUG等级，如算法中每个循环的中间状态\n",
    "\n",
    "### 捕获traceback\n",
    "Python中的traceback模块被用于跟踪异常返回信息，可以在logging中记录下traceback："
   ]
  },
  {
   "cell_type": "code",
   "execution_count": 1,
   "metadata": {},
   "outputs": [
    {
     "name": "stderr",
     "output_type": "stream",
     "text": [
      "Start print log\n",
      "Something maybe fail.\n",
      "Faild to open sklearn.txt from logger.error\n",
      "Traceback (most recent call last):\n",
      "  File \"<ipython-input-1-e3513f619b99>\", line 19, in <module>\n",
      "    open(\"sklearn.txt\",\"rb\")\n",
      "FileNotFoundError: [Errno 2] No such file or directory: 'sklearn.txt'\n",
      "Finish\n"
     ]
    }
   ],
   "source": [
    "import logging\n",
    "logger = logging.getLogger(__name__)\n",
    "logger.setLevel(level = logging.INFO)\n",
    "handler = logging.FileHandler(\"log.txt\")\n",
    "handler.setLevel(logging.INFO)\n",
    "formatter = logging.Formatter('%(asctime)s - %(name)s - %(levelname)s - %(message)s')\n",
    "handler.setFormatter(formatter)\n",
    "\n",
    "console = logging.StreamHandler()\n",
    "console.setLevel(logging.INFO)\n",
    "\n",
    "logger.addHandler(handler)\n",
    "logger.addHandler(console)\n",
    "\n",
    "logger.info(\"Start print log\")\n",
    "logger.debug(\"Do something\")\n",
    "logger.warning(\"Something maybe fail.\")\n",
    "try:\n",
    "    open(\"sklearn.txt\",\"rb\")\n",
    "except (SystemExit,KeyboardInterrupt):\n",
    "    raise\n",
    "except Exception:\n",
    "    logger.error(\"Faild to open sklearn.txt from logger.error\",exc_info = True)\n",
    "\n",
    "logger.info(\"Finish\")"
   ]
  },
  {
   "cell_type": "code",
   "execution_count": null,
   "metadata": {},
   "outputs": [],
   "source": []
  }
 ],
 "metadata": {
  "kernelspec": {
   "display_name": "Python 3",
   "language": "python",
   "name": "python3"
  },
  "language_info": {
   "codemirror_mode": {
    "name": "ipython",
    "version": 3
   },
   "file_extension": ".py",
   "mimetype": "text/x-python",
   "name": "python",
   "nbconvert_exporter": "python",
   "pygments_lexer": "ipython3",
   "version": "3.6.7"
  }
 },
 "nbformat": 4,
 "nbformat_minor": 2
}
