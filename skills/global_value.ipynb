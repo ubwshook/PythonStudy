{
 "cells": [
  {
   "cell_type": "markdown",
   "metadata": {
    "slideshow": {
     "slide_type": "slide"
    }
   },
   "source": [
    "## python实现跨文件的全局变量\n",
    "Python 中 global 关键字可以定义一个变量为全局变量，但是这个仅限于在一个模块（py文件）中调用全局变量，在另外一个py文件 再次使用 global x 也是无法访问到的，因为在这个py模块中并没有一个叫做x的变量，于是就会报错**未定义**。\n",
    "\n",
    "借鉴global 关键字的思路，既然在一个文件里面可以生效的话，那么我们就专门为全局变量定义一个“全局变量管理模块”就好了。\n",
    "\n",
    "全局变量管理模块 globalvar.py 如下："
   ]
  },
  {
   "cell_type": "code",
   "execution_count": 14,
   "metadata": {
    "slideshow": {
     "slide_type": "slide"
    }
   },
   "outputs": [],
   "source": [
    "#!/usr/bin/python\n",
    "# -*- coding: utf-8 -*-\n",
    "\n",
    "def _init():\n",
    "    global _global_dict\n",
    "    _global_dict = {}\n",
    "\n",
    "def set_value(name, value):\n",
    "    _global_dict[name] = value\n",
    "\n",
    "def get_value(name, defValue=None):\n",
    "    try:\n",
    "        return _global_dict[name]\n",
    "    except KeyError:\n",
    "        return defValue"
   ]
  },
  {
   "cell_type": "markdown",
   "metadata": {
    "slideshow": {
     "slide_type": "slide"
    }
   },
   "source": [
    "在a.py中设置全局变量："
   ]
  },
  {
   "cell_type": "code",
   "execution_count": 15,
   "metadata": {
    "slideshow": {
     "slide_type": "slide"
    }
   },
   "outputs": [],
   "source": [
    "#!/usr/bin/python\n",
    "# -*- coding: utf-8 -*-\n",
    "\n",
    "import sys\n",
    "import globalvar as gl\n",
    "\n",
    "gl._init()\n",
    "\n",
    "gl.set_value('name', 'cc')\n",
    "gl.set_value('score', 90)"
   ]
  },
  {
   "cell_type": "markdown",
   "metadata": {
    "slideshow": {
     "slide_type": "slide"
    }
   },
   "source": [
    "在b.py中获取全局变量"
   ]
  },
  {
   "cell_type": "code",
   "execution_count": 16,
   "metadata": {
    "slideshow": {
     "slide_type": "slide"
    }
   },
   "outputs": [
    {
     "name": "stdout",
     "output_type": "stream",
     "text": [
      "cc: 90\n"
     ]
    }
   ],
   "source": [
    "import globalvar as gl\n",
    "\n",
    "name = gl.get_value('name')\n",
    "score = gl.get_value('score')\n",
    "\n",
    "print(\"%s: %s\" % (name, score))"
   ]
  }
 ],
 "metadata": {
  "kernelspec": {
   "display_name": "Python 3",
   "language": "python",
   "name": "python3"
  },
  "language_info": {
   "codemirror_mode": {
    "name": "ipython",
    "version": 3
   },
   "file_extension": ".py",
   "mimetype": "text/x-python",
   "name": "python",
   "nbconvert_exporter": "python",
   "pygments_lexer": "ipython3",
   "version": "3.6.7"
  }
 },
 "nbformat": 4,
 "nbformat_minor": 2
}
